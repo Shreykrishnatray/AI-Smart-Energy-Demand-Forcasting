{
  "nbformat": 4,
  "nbformat_minor": 0,
  "metadata": {
    "colab": {
      "provenance": []
    },
    "kernelspec": {
      "name": "python3",
      "display_name": "Python 3"
    },
    "language_info": {
      "name": "python"
    }
  },
  "cells": [
    {
      "cell_type": "code",
      "source": [
        "import pandas as pd\n",
        "from sklearn.model_selection import train_test_split\n",
        "from sklearn.ensemble import RandomForestRegressor\n",
        "from sklearn.metrics import mean_absolute_error, mean_squared_error, r2_score\n",
        "\n",
        "# Load your dataset (replace 'your_dataset.csv' with your file path)\n",
        "data = pd.read_csv('/content/ASGD.csv')\n",
        "\n",
        "# Display the first few rows of the dataset\n",
        "print(data.head())\n",
        "\n",
        "# Features and target variable\n",
        "X = data[['Temperature', 'Humidity', 'WindSpeed', 'GeneralDiffuseFlows', 'DiffuseFlows']]\n",
        "y = data['PowerConsumption']\n",
        "\n",
        "# Split the dataset into training and testing sets\n",
        "X_train, X_test, y_train, y_test = train_test_split(X, y, test_size=0.2, random_state=42)\n",
        "\n",
        "# Initialize the Random Forest Regressor\n",
        "model = RandomForestRegressor(n_estimators=100, random_state=42)\n",
        "\n",
        "# Train the model\n",
        "model.fit(X_train, y_train)\n",
        "\n",
        "# Make predictions on the test set\n",
        "y_pred = model.predict(X_test)\n",
        "\n",
        "# Evaluate the model\n",
        "mae = mean_absolute_error(y_test, y_pred)\n",
        "mse = mean_squared_error(y_test, y_pred)\n",
        "r2 = r2_score(y_test, y_pred)\n",
        "\n",
        "print(\"Mean Absolute Error (MAE):\", mae)\n",
        "print(\"Mean Squared Error (MSE):\", mse)\n",
        "print(\"R-squared (R2):\", r2)\n",
        "\n",
        "# Predict energy consumption for 2025 (example input)\n",
        "input_data = {\n",
        "    'Temperature': [25],       # Example value in °C\n",
        "    'Humidity': [60],          # Example value in %\n",
        "    'WindSpeed': [5],  # Providing an example value for WindSpeed\n",
        "    'GeneralDiffuseFlows': [100], # Providing an example value for GeneralDiffuseFlows\n",
        "    'DiffuseFlows': [50]    # Providing an example value for DiffuseFlows\n",
        "}\n",
        "input_df = pd.DataFrame(input_data)\n",
        "\n",
        "prediction = model.predict(input_df)\n",
        "print(\"Predicted Energy Consumption :\", prediction[0])"
      ],
      "metadata": {
        "id": "znQcx3oOPBEG",
        "colab": {
          "base_uri": "https://localhost:8080/"
        },
        "outputId": "e93b8b01-fd2a-43f7-f5cc-31bf25712cdc"
      },
      "execution_count": 11,
      "outputs": [
        {
          "output_type": "stream",
          "name": "stdout",
          "text": [
            "           Datetime  Temperature  Humidity  WindSpeed  GeneralDiffuseFlows  \\\n",
            "0  01-01-2017 00:00        6.559      73.8      0.083                0.051   \n",
            "1  01-01-2017 00:10        6.414      74.5      0.083                0.070   \n",
            "2  01-01-2017 00:20        6.313      74.5      0.080                0.062   \n",
            "3  01-01-2017 00:30        6.121      75.0      0.083                0.091   \n",
            "4  01-01-2017 00:40        5.921      75.7      0.081                0.048   \n",
            "\n",
            "   DiffuseFlows  PowerConsumption  \n",
            "0         0.119       34055.69620  \n",
            "1         0.085       29814.68354  \n",
            "2         0.100       29128.10127  \n",
            "3         0.096       28228.86076  \n",
            "4         0.085       27335.69620  \n",
            "Mean Absolute Error (MAE): 3213.1344289358353\n",
            "Mean Squared Error (MSE): 21518627.50620054\n",
            "R-squared (R2): 0.5738411922997253\n",
            "Predicted Energy Consumption : 36391.0299126\n"
          ]
        }
      ]
    }
  ]
}